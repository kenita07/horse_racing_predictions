{
 "cells": [
  {
   "cell_type": "code",
   "execution_count": null,
   "metadata": {
    "vscode": {
     "languageId": "plaintext"
    }
   },
   "outputs": [],
   "source": [
    "\n",
    "    horse_results = pd.read_csv(SAVE_DIR / RAWDF_HORSE_FILE_NAME, sep=\"\\t\")\n",
    "    horse_id_list = horse_results[\"horse_id\"].unique()"
   ]
  }
 ],
 "metadata": {
  "language_info": {
   "name": "python"
  }
 },
 "nbformat": 4,
 "nbformat_minor": 2
}
