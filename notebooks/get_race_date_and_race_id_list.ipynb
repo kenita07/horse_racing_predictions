{
 "cells": [
  {
   "cell_type": "code",
   "execution_count": 5,
   "metadata": {},
   "outputs": [],
   "source": [
    "# import\n",
    "from urllib.request import Request, urlopen\n",
    "\n",
    "# define\n",
    "HEADERS = {\"User-Agent\": \"Mozilla/5.0 (Windows NT 10.0; Win64; x64) AppleWebKit/537.36 (KHTML, like Gecko) Chrome/87.0.4280.88 Safari/537.36\"}\n",
    "LOOP_MINUTE = 1\n",
    "TEST_URL = \"https://db.netkeiba.com/race/202304040509\"\n",
    "URL = \"https://race.netkeiba.com/top/calendar.html?year=2024&month=10\"\n",
    "\n",
    "# get test req, html\n",
    "test_request = Request(TEST_URL, headers = HEADERS)\n",
    "test_html = urlopen(test_request).read()"
   ]
  },
  {
   "cell_type": "code",
   "execution_count": 6,
   "metadata": {},
   "outputs": [],
   "source": [
    "import pandas as pd\n",
    "# pd.read_html(test_html)"
   ]
  },
  {
   "cell_type": "code",
   "execution_count": 7,
   "metadata": {},
   "outputs": [],
   "source": [
    "# get kaisai_date for 2024\n",
    "request = Request(URL, headers = HEADERS)\n",
    "html = urlopen(request).read()"
   ]
  },
  {
   "cell_type": "code",
   "execution_count": 8,
   "metadata": {},
   "outputs": [],
   "source": [
    "from bs4 import BeautifulSoup\n",
    "\n",
    "soup = BeautifulSoup(html)\n",
    "\n",
    "a_tag_list = soup.find(\"table\", class_ = \"Calendar_Table\").find_all(\"a\")"
   ]
  },
  {
   "cell_type": "code",
   "execution_count": 9,
   "metadata": {},
   "outputs": [
    {
     "data": {
      "text/plain": [
       "['20241005',\n",
       " '20241006',\n",
       " '20241012',\n",
       " '20241013',\n",
       " '20241014',\n",
       " '20241019',\n",
       " '20241020',\n",
       " '20241026',\n",
       " '20241027']"
      ]
     },
     "execution_count": 9,
     "metadata": {},
     "output_type": "execute_result"
    }
   ],
   "source": [
    "import re \n",
    "date_list = []\n",
    "for a in a_tag_list:\n",
    "    a_tag_info = re.findall(\n",
    "        r\"kaisai_date=(\\d{8})\", a[\"href\"]\n",
    "    )[0]\n",
    "    date_list.append(a_tag_info)\n",
    "date_list"
   ]
  },
  {
   "cell_type": "code",
   "execution_count": 10,
   "metadata": {},
   "outputs": [],
   "source": [
    "import time\n",
    "from tqdm.notebook import tqdm\n",
    "\n",
    "def scrape_kaisai_date(from_, to_):\n",
    "    kaisai_date_list = []\n",
    "    for date in tqdm(pd.date_range(from_, to_, freq = \"MS\")):\n",
    "        print(date)\n",
    "        year = date.year\n",
    "        month = date.month\n",
    "        url = f\"https://race.netkeiba.com/top/calendar.html?year={year}&month={month}\"\n",
    "        request = Request(url, headers = HEADERS)\n",
    "        html = urlopen(request).read() # スクレイピング\n",
    "        soup = BeautifulSoup(html)\n",
    "        a_tag_list = soup.find(\"table\", class_ = \"Calendar_Table\").find_all(\"a\")\n",
    "        for a in a_tag_list:\n",
    "            a_tag_info = re.findall(\n",
    "                r\"kaisai_date=(\\d{8})\", a[\"href\"]\n",
    "            )[0]\n",
    "            kaisai_date_list.append(a_tag_info)\n",
    "        time.sleep(LOOP_MINUTE)\n",
    "    return kaisai_date_list"
   ]
  },
  {
   "cell_type": "code",
   "execution_count": 11,
   "metadata": {},
   "outputs": [
    {
     "data": {
      "application/vnd.jupyter.widget-view+json": {
       "model_id": "b9be4b99755d4af4822e37fcb0d7fd9c",
       "version_major": 2,
       "version_minor": 0
      },
      "text/plain": [
       "  0%|          | 0/10 [00:00<?, ?it/s]"
      ]
     },
     "metadata": {},
     "output_type": "display_data"
    },
    {
     "name": "stdout",
     "output_type": "stream",
     "text": [
      "2024-01-01 00:00:00\n",
      "2024-02-01 00:00:00\n",
      "2024-03-01 00:00:00\n",
      "2024-04-01 00:00:00\n",
      "2024-05-01 00:00:00\n",
      "2024-06-01 00:00:00\n",
      "2024-07-01 00:00:00\n",
      "2024-08-01 00:00:00\n",
      "2024-09-01 00:00:00\n",
      "2024-10-01 00:00:00\n"
     ]
    },
    {
     "data": {
      "text/plain": [
       "['20240106',\n",
       " '20240107',\n",
       " '20240108',\n",
       " '20240113',\n",
       " '20240114',\n",
       " '20240120',\n",
       " '20240121',\n",
       " '20240127',\n",
       " '20240128',\n",
       " '20240203',\n",
       " '20240204',\n",
       " '20240210',\n",
       " '20240211',\n",
       " '20240217',\n",
       " '20240218',\n",
       " '20240224',\n",
       " '20240225',\n",
       " '20240302',\n",
       " '20240303',\n",
       " '20240309',\n",
       " '20240310',\n",
       " '20240316',\n",
       " '20240317',\n",
       " '20240323',\n",
       " '20240324',\n",
       " '20240330',\n",
       " '20240331',\n",
       " '20240406',\n",
       " '20240407',\n",
       " '20240413',\n",
       " '20240414',\n",
       " '20240420',\n",
       " '20240421',\n",
       " '20240427',\n",
       " '20240428',\n",
       " '20240504',\n",
       " '20240505',\n",
       " '20240511',\n",
       " '20240512',\n",
       " '20240518',\n",
       " '20240519',\n",
       " '20240525',\n",
       " '20240526',\n",
       " '20240601',\n",
       " '20240602',\n",
       " '20240608',\n",
       " '20240609',\n",
       " '20240615',\n",
       " '20240616',\n",
       " '20240622',\n",
       " '20240623',\n",
       " '20240629',\n",
       " '20240630',\n",
       " '20240706',\n",
       " '20240707',\n",
       " '20240713',\n",
       " '20240714',\n",
       " '20240720',\n",
       " '20240721',\n",
       " '20240727',\n",
       " '20240728',\n",
       " '20240803',\n",
       " '20240804',\n",
       " '20240810',\n",
       " '20240811',\n",
       " '20240817',\n",
       " '20240818',\n",
       " '20240824',\n",
       " '20240825',\n",
       " '20240831',\n",
       " '20240901',\n",
       " '20240907',\n",
       " '20240908',\n",
       " '20240914',\n",
       " '20240915',\n",
       " '20240916',\n",
       " '20240921',\n",
       " '20240922',\n",
       " '20240928',\n",
       " '20240929',\n",
       " '20241005',\n",
       " '20241006',\n",
       " '20241012',\n",
       " '20241013',\n",
       " '20241014',\n",
       " '20241019',\n",
       " '20241020',\n",
       " '20241026',\n",
       " '20241027']"
      ]
     },
     "execution_count": 11,
     "metadata": {},
     "output_type": "execute_result"
    }
   ],
   "source": [
    "scrape_kaisai_date(from_ = \"2024-01\", to_ = \"2024-10\")"
   ]
  },
  {
   "cell_type": "code",
   "execution_count": null,
   "metadata": {},
   "outputs": [],
   "source": []
  },
  {
   "cell_type": "code",
   "execution_count": 13,
   "metadata": {},
   "outputs": [
    {
     "data": {
      "application/vnd.jupyter.widget-view+json": {
       "model_id": "e7286f434ff548f190ba454f6c7c68d0",
       "version_major": 2,
       "version_minor": 0
      },
      "text/plain": [
       "  0%|          | 0/12 [00:00<?, ?it/s]"
      ]
     },
     "metadata": {},
     "output_type": "display_data"
    },
    {
     "name": "stdout",
     "output_type": "stream",
     "text": [
      "2024-01-01 00:00:00\n"
     ]
    },
    {
     "name": "stderr",
     "output_type": "stream",
     "text": [
      "c:\\Users\\kenni\\keiba_yosou\\sorce\\scraping.py:59: GuessedAtParserWarning: No parser was explicitly specified, so I'm using the best available HTML parser for this system (\"lxml\"). This usually isn't a problem, but if you run this code on another system, or in a different virtual environment, it may use a different parser and behave differently.\n",
      "\n",
      "The code that caused this warning is on line 59 of the file c:\\Users\\kenni\\keiba_yosou\\sorce\\scraping.py. To get rid of this warning, pass the additional argument 'features=\"lxml\"' to the BeautifulSoup constructor.\n",
      "\n",
      "  soup = BeautifulSoup(html)\n"
     ]
    },
    {
     "name": "stdout",
     "output_type": "stream",
     "text": [
      "2024-02-01 00:00:00\n",
      "2024-03-01 00:00:00\n",
      "2024-04-01 00:00:00\n",
      "2024-05-01 00:00:00\n",
      "2024-06-01 00:00:00\n",
      "2024-07-01 00:00:00\n",
      "2024-08-01 00:00:00\n",
      "2024-09-01 00:00:00\n",
      "2024-10-01 00:00:00\n",
      "2024-11-01 00:00:00\n",
      "2024-12-01 00:00:00\n"
     ]
    }
   ],
   "source": [
    "kaisai_date_list = scraping.scrape_kaisai_date(from_=\"2024-01\", to_=\"2024-12\")"
   ]
  },
  {
   "cell_type": "code",
   "execution_count": null,
   "metadata": {},
   "outputs": [],
   "source": [
    "\n"
   ]
  }
 ],
 "metadata": {
  "kernelspec": {
   "display_name": "Python 3",
   "language": "python",
   "name": "python3"
  },
  "language_info": {
   "codemirror_mode": {
    "name": "ipython",
    "version": 3
   },
   "file_extension": ".py",
   "mimetype": "text/x-python",
   "name": "python",
   "nbconvert_exporter": "python",
   "pygments_lexer": "ipython3",
   "version": "3.9.13"
  }
 },
 "nbformat": 4,
 "nbformat_minor": 4
}
