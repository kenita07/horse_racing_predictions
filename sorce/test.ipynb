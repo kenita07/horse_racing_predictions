{
 "cells": [
  {
   "cell_type": "code",
   "execution_count": 16,
   "metadata": {},
   "outputs": [],
   "source": [
    "from selenium import webdriver\n",
    "from selenium.webdriver.chrome.service import Service\n",
    "from selenium.webdriver.chrome.options import Options\n",
    "\n",
    "from webdriver_manager.chrome import ChromeDriverManager\n",
    "\n",
    "chrome_options = Options()\n",
    "chrome_options.add_argument(\"--headless\")  # ヘッドレスモードを有効にする\n",
    "chrome_options.add_argument(\"--disable-gpu\")  # GPUを無効にする（特にWindowsで推奨）\n",
    "chrome_options.add_argument(\"--no-sandbox\")  # サンドボックスモードを無効にする（Linuxで推奨）\n",
    "\n",
    "# Chromeドライバーパスを取得\n",
    "chromedriver_path = ChromeDriverManager().install()\n",
    "\n",
    "# Serviceクラスを使ってドライバーパスを指定\n",
    "service = Service(chromedriver_path)\n",
    "\n",
    "# サービスオブジェクトを指定してwebdriver.Chromeを起動\n",
    "driver = webdriver.Chrome(service=service, options=chrome_options)\n"
   ]
  },
  {
   "cell_type": "code",
   "execution_count": 17,
   "metadata": {},
   "outputs": [
    {
     "data": {
      "text/plain": [
       "<selenium.webdriver.remote.webelement.WebElement (session=\"aa8dc92e86094bffc4ea4be9c07bddbb\", element=\"f.1157EC3CD6E02F929EF5A7F42ABA4B33.d.0C1279E1F58C043010E16E9C61805A12.e.98\")>"
      ]
     },
     "execution_count": 17,
     "metadata": {},
     "output_type": "execute_result"
    }
   ],
   "source": [
    "URL = \"https://race.netkeiba.com/top/race_list.html?kaisai_date=20241014\"\n",
    "\n",
    "from selenium.webdriver.common.by import By\n",
    "driver = webdriver.Chrome(service=service, options=chrome_options)\n",
    "driver.get(URL)\n",
    "li_list = driver.find_elements(By.CLASS_NAME, \"RaceList_DataItem\")\n",
    "# li_list = driver.find_elements(By.TAG_NAME, \"li\")\n",
    "li = li_list[0]\n",
    "li"
   ]
  },
  {
   "cell_type": "code",
   "execution_count": 18,
   "metadata": {},
   "outputs": [
    {
     "data": {
      "text/plain": [
       "'https://race.netkeiba.com/race/result.html?race_id=202405040401&rf=race_list'"
      ]
     },
     "execution_count": 18,
     "metadata": {},
     "output_type": "execute_result"
    }
   ],
   "source": [
    "href = li.find_element(By.TAG_NAME, \"a\").get_attribute(\"href\")\n",
    "href"
   ]
  },
  {
   "cell_type": "code",
   "execution_count": 19,
   "metadata": {},
   "outputs": [
    {
     "data": {
      "text/plain": [
       "'202405040401'"
      ]
     },
     "execution_count": 19,
     "metadata": {},
     "output_type": "execute_result"
    }
   ],
   "source": [
    "import re\n",
    "\n",
    "re.findall(r\"race_id=(\\d{12})\", href)[0]"
   ]
  },
  {
   "cell_type": "code",
   "execution_count": 20,
   "metadata": {},
   "outputs": [
    {
     "name": "stdout",
     "output_type": "stream",
     "text": [
      "['202405040401', '202405040402', '202405040403', '202405040404', '202405040405', '202405040406', '202405040407', '202405040408', '202405040409', '202405040410', '202405040411', '202405040412', '202404040401', '202404040402', '202404040403', '202404040404', '202404040405', '202404040406', '202404040407', '202404040408', '202404040409', '202404040410', '202404040411', '202404040412']\n"
     ]
    }
   ],
   "source": [
    "import time\n",
    "\n",
    "race_id_list = []\n",
    "for li in li_list:\n",
    "    href = li.find_element(By.TAG_NAME, \"a\").get_attribute(\"href\")\n",
    "    race_id = re.findall(r\"race_id=(\\d{12})\", href)[0]\n",
    "    race_id_list.append(race_id)\n",
    "    time.sleep(1)\n",
    "print(race_id_list)"
   ]
  },
  {
   "cell_type": "code",
   "execution_count": null,
   "metadata": {},
   "outputs": [],
   "source": [
    "# 基本ライブラリ\n",
    "import re\n",
    "import time\n",
    "import traceback\n",
    "\n",
    "# Selenium関連のライブラリ\n",
    "from selenium.webdriver.common.by import By\n",
    "\n",
    "# 外部ライブラリ\n",
    "from tqdm.notebook import tqdm\n",
    "\n",
    "# 自作モジュール\n",
    "import get_race_date\n",
    "from logger_setting import setup_logger\n",
    "from chrome_setting import get_chrome_driver\n",
    "\n",
    "# jupyter用 auto restart\n",
    "# %load_ext autoload\n",
    "\n",
    "# ロガーの取得\n",
    "logger = setup_logger(__name__)\n",
    "\n",
    "# 定数の定義\n",
    "URL_TMPLATE = \"https://race.netkeiba.com/top/race_list.html?kaisai_date={kaisai_date}\"\n",
    "\n",
    "\n",
    "def scrape_race_id_list(kaisai_date_list: list[str]):\n",
    "    # kaisai_date_listが渡されていない場合は、デフォルトで日付リストを取得\n",
    "    if not kaisai_date_list:\n",
    "        kaisai_date_list = get_race_date.scrape_kaisai_date(\n",
    "            from_=\"2024-01\", to_=\"2024-12\"\n",
    "        )\n",
    "        logger.info(f\"取得した開催日リスト: {kaisai_date_list}\")\n",
    "    kaisai_date_list = get_race_date.scrape_kaisai_date(from_=\"2024-01\", to_=\"2024-12\")\n",
    "    race_id_list = []\n",
    "    with get_chrome_driver(headless=True) as driver:\n",
    "        for kaisai_date in tqdm(kaisai_date_list):\n",
    "            url = URL_TMPLATE.format(kaisai_date=kaisai_date)\n",
    "            try:\n",
    "                driver.get(url)\n",
    "                time.sleep(1)\n",
    "                li_list = driver.find_elements(By.CLASS_NAME, \"RaceList_DataItem\")\n",
    "                for li in li_list:\n",
    "                    href = li.find_element(By.TAG_NAME, \"a\").get_attribute(\"href\")\n",
    "                    race_id = re.findall(r\"race_id=(\\d{12})\", href)[0]\n",
    "                    race_id_list.append(race_id)\n",
    "            except:\n",
    "                logger.error(\"stopped at {URL}\")\n",
    "                logger.debug(traceback.format_exc())\n",
    "                break\n",
    "    return race_id_list\n"
   ]
  },
  {
   "cell_type": "code",
   "execution_count": 19,
   "metadata": {},
   "outputs": [
    {
     "data": {
      "application/vnd.jupyter.widget-view+json": {
       "model_id": "fb241ee4651442268175b77dfe2bdbc1",
       "version_major": 2,
       "version_minor": 0
      },
      "text/plain": [
       "  0%|          | 0/10 [00:00<?, ?it/s]"
      ]
     },
     "metadata": {},
     "output_type": "display_data"
    },
    {
     "name": "stderr",
     "output_type": "stream",
     "text": [
      "c:\\Users\\kenni\\keiba_yosou\\sorce\\scraping.py:58: GuessedAtParserWarning: No parser was explicitly specified, so I'm using the best available HTML parser for this system (\"lxml\"). This usually isn't a problem, but if you run this code on another system, or in a different virtual environment, it may use a different parser and behave differently.\n",
      "\n",
      "The code that caused this warning is on line 58 of the file c:\\Users\\kenni\\keiba_yosou\\sorce\\scraping.py. To get rid of this warning, pass the additional argument 'features=\"lxml\"' to the BeautifulSoup constructor.\n",
      "\n",
      "  soup = BeautifulSoup(html)\n"
     ]
    },
    {
     "data": {
      "application/vnd.jupyter.widget-view+json": {
       "model_id": "e5de0906e748462e92ddb484ff0b51a0",
       "version_major": 2,
       "version_minor": 0
      },
      "text/plain": [
       "  0%|          | 0/12 [00:00<?, ?it/s]"
      ]
     },
     "metadata": {},
     "output_type": "display_data"
    },
    {
     "name": "stderr",
     "output_type": "stream",
     "text": [
      "c:\\Users\\kenni\\keiba_yosou\\sorce\\get_race_date.py:59: GuessedAtParserWarning: No parser was explicitly specified, so I'm using the best available HTML parser for this system (\"lxml\"). This usually isn't a problem, but if you run this code on another system, or in a different virtual environment, it may use a different parser and behave differently.\n",
      "\n",
      "The code that caused this warning is on line 59 of the file c:\\Users\\kenni\\keiba_yosou\\sorce\\get_race_date.py. To get rid of this warning, pass the additional argument 'features=\"lxml\"' to the BeautifulSoup constructor.\n",
      "\n",
      "  soup = BeautifulSoup(html)\n"
     ]
    },
    {
     "data": {
      "application/vnd.jupyter.widget-view+json": {
       "model_id": "b51298aa3a224d18968e68076f14ebf2",
       "version_major": 2,
       "version_minor": 0
      },
      "text/plain": [
       "  0%|          | 0/94 [00:00<?, ?it/s]"
      ]
     },
     "metadata": {},
     "output_type": "display_data"
    },
    {
     "name": "stdout",
     "output_type": "stream",
     "text": [
      "[]\n"
     ]
    }
   ],
   "source": [
    "import scraping\n",
    "\n",
    "kaisai_date_list = scraping.scrape_kaisai_date(from_=\"2024-01\", to_=\"2024-10\")\n",
    "race_id_list = scrape_race_id_list(kaisai_date_list)\n",
    "print(race_id_list)"
   ]
  },
  {
   "cell_type": "code",
   "execution_count": 16,
   "metadata": {},
   "outputs": [],
   "source": [
    "import pickle\n",
    "with open(\"race_id_list.pickle\", \"wb\") as f:\n",
    "    pickle.dump(race_id_list, f)"
   ]
  },
  {
   "cell_type": "code",
   "execution_count": null,
   "metadata": {},
   "outputs": [],
   "source": []
  }
 ],
 "metadata": {
  "kernelspec": {
   "display_name": "Python 3",
   "language": "python",
   "name": "python3"
  },
  "language_info": {
   "codemirror_mode": {
    "name": "ipython",
    "version": 3
   },
   "file_extension": ".py",
   "mimetype": "text/x-python",
   "name": "python",
   "nbconvert_exporter": "python",
   "pygments_lexer": "ipython3",
   "version": "3.9.13"
  }
 },
 "nbformat": 4,
 "nbformat_minor": 2
}
